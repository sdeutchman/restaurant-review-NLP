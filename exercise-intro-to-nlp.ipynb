{
 "cells": [
  {
   "cell_type": "markdown",
   "id": "2a315004",
   "metadata": {
    "papermill": {
     "duration": 0.008182,
     "end_time": "2023-04-22T12:47:18.975657",
     "exception": false,
     "start_time": "2023-04-22T12:47:18.967475",
     "status": "completed"
    },
    "tags": []
   },
   "source": [
    "**This notebook is an exercise in the [Natural Language Processing](https://www.kaggle.com/learn/natural-language-processing) course.  You can reference the tutorial at [this link](https://www.kaggle.com/matleonard/intro-to-nlp).**\n",
    "\n",
    "---\n"
   ]
  },
  {
   "cell_type": "markdown",
   "id": "d1bb6e4d",
   "metadata": {
    "papermill": {
     "duration": 0.00688,
     "end_time": "2023-04-22T12:47:18.989699",
     "exception": false,
     "start_time": "2023-04-22T12:47:18.982819",
     "status": "completed"
    },
    "tags": []
   },
   "source": [
    "# Basic Text Processing with Spacy\n",
    "    \n",
    "You're a consultant for [DelFalco's Italian Restaurant](https://defalcosdeli.com/index.html).\n",
    "The owner asked you to identify whether there are any foods on their menu that diners find disappointing. \n",
    "\n",
    "<img src=\"https://i.imgur.com/8DZunAQ.jpg\" alt=\"Meatball Sub\" width=\"250\"/>\n",
    "\n",
    "Before getting started, run the following cell to set up code checking."
   ]
  },
  {
   "cell_type": "code",
   "execution_count": 1,
   "id": "7d37b98e",
   "metadata": {
    "execution": {
     "iopub.execute_input": "2023-04-22T12:47:19.006301Z",
     "iopub.status.busy": "2023-04-22T12:47:19.005335Z",
     "iopub.status.idle": "2023-04-22T12:47:19.062475Z",
     "shell.execute_reply": "2023-04-22T12:47:19.061416Z"
    },
    "papermill": {
     "duration": 0.068663,
     "end_time": "2023-04-22T12:47:19.065345",
     "exception": false,
     "start_time": "2023-04-22T12:47:18.996682",
     "status": "completed"
    },
    "tags": []
   },
   "outputs": [
    {
     "name": "stdout",
     "output_type": "stream",
     "text": [
      "Setup Complete\n"
     ]
    }
   ],
   "source": [
    "import pandas as pd\n",
    "\n",
    "# Set up code checking\n",
    "from learntools.core import binder\n",
    "binder.bind(globals())\n",
    "from learntools.nlp.ex1 import *\n",
    "print('Setup Complete')"
   ]
  },
  {
   "cell_type": "markdown",
   "id": "1ca95bf5",
   "metadata": {
    "papermill": {
     "duration": 0.006555,
     "end_time": "2023-04-22T12:47:19.079207",
     "exception": false,
     "start_time": "2023-04-22T12:47:19.072652",
     "status": "completed"
    },
    "tags": []
   },
   "source": [
    "The business owner suggested you use diner reviews from the Yelp website to determine which dishes people liked and disliked. You pulled the data from Yelp. Before you get to analysis, run the code cell below for a quick look at the data you have to work with."
   ]
  },
  {
   "cell_type": "code",
   "execution_count": 2,
   "id": "6873b88c",
   "metadata": {
    "execution": {
     "iopub.execute_input": "2023-04-22T12:47:19.095829Z",
     "iopub.status.busy": "2023-04-22T12:47:19.095003Z",
     "iopub.status.idle": "2023-04-22T12:47:19.198444Z",
     "shell.execute_reply": "2023-04-22T12:47:19.197103Z"
    },
    "papermill": {
     "duration": 0.115122,
     "end_time": "2023-04-22T12:47:19.201226",
     "exception": false,
     "start_time": "2023-04-22T12:47:19.086104",
     "status": "completed"
    },
    "tags": []
   },
   "outputs": [
    {
     "data": {
      "text/html": [
       "<div>\n",
       "<style scoped>\n",
       "    .dataframe tbody tr th:only-of-type {\n",
       "        vertical-align: middle;\n",
       "    }\n",
       "\n",
       "    .dataframe tbody tr th {\n",
       "        vertical-align: top;\n",
       "    }\n",
       "\n",
       "    .dataframe thead th {\n",
       "        text-align: right;\n",
       "    }\n",
       "</style>\n",
       "<table border=\"1\" class=\"dataframe\">\n",
       "  <thead>\n",
       "    <tr style=\"text-align: right;\">\n",
       "      <th></th>\n",
       "      <th>review_id</th>\n",
       "      <th>user_id</th>\n",
       "      <th>business_id</th>\n",
       "      <th>stars</th>\n",
       "      <th>useful</th>\n",
       "      <th>funny</th>\n",
       "      <th>cool</th>\n",
       "      <th>text</th>\n",
       "      <th>date</th>\n",
       "    </tr>\n",
       "  </thead>\n",
       "  <tbody>\n",
       "    <tr>\n",
       "      <th>109</th>\n",
       "      <td>lDJIaF4eYRF4F7g6Zb9euw</td>\n",
       "      <td>lb0QUR5bc4O-Am4hNq9ZGg</td>\n",
       "      <td>r5PLDU-4mSbde5XekTXSCA</td>\n",
       "      <td>4</td>\n",
       "      <td>2</td>\n",
       "      <td>0</td>\n",
       "      <td>0</td>\n",
       "      <td>I used to work food service and my manager at ...</td>\n",
       "      <td>2013-01-27 17:54:54</td>\n",
       "    </tr>\n",
       "    <tr>\n",
       "      <th>1013</th>\n",
       "      <td>vvIzf3pr8lTqE_AOsxmgaA</td>\n",
       "      <td>MAmijW4ooUzujkufYYLMeQ</td>\n",
       "      <td>r5PLDU-4mSbde5XekTXSCA</td>\n",
       "      <td>4</td>\n",
       "      <td>0</td>\n",
       "      <td>0</td>\n",
       "      <td>0</td>\n",
       "      <td>We have been trying Eggplant sandwiches all ov...</td>\n",
       "      <td>2015-04-15 04:50:56</td>\n",
       "    </tr>\n",
       "    <tr>\n",
       "      <th>1204</th>\n",
       "      <td>UF-JqzMczZ8vvp_4tPK3bQ</td>\n",
       "      <td>slfi6gf_qEYTXy90Sw93sg</td>\n",
       "      <td>r5PLDU-4mSbde5XekTXSCA</td>\n",
       "      <td>5</td>\n",
       "      <td>1</td>\n",
       "      <td>0</td>\n",
       "      <td>0</td>\n",
       "      <td>Amazing Steak and Cheese... Better than any Ph...</td>\n",
       "      <td>2011-03-20 00:57:45</td>\n",
       "    </tr>\n",
       "    <tr>\n",
       "      <th>1251</th>\n",
       "      <td>geUJGrKhXynxDC2uvERsLw</td>\n",
       "      <td>N_-UepOzAsuDQwOUtfRFGw</td>\n",
       "      <td>r5PLDU-4mSbde5XekTXSCA</td>\n",
       "      <td>1</td>\n",
       "      <td>0</td>\n",
       "      <td>0</td>\n",
       "      <td>0</td>\n",
       "      <td>Although I have been going to DeFalco's for ye...</td>\n",
       "      <td>2018-07-17 01:48:23</td>\n",
       "    </tr>\n",
       "    <tr>\n",
       "      <th>1354</th>\n",
       "      <td>aPctXPeZW3kDq36TRm-CqA</td>\n",
       "      <td>139hD7gkZVzSvSzDPwhNNw</td>\n",
       "      <td>r5PLDU-4mSbde5XekTXSCA</td>\n",
       "      <td>2</td>\n",
       "      <td>0</td>\n",
       "      <td>0</td>\n",
       "      <td>0</td>\n",
       "      <td>Highs: Ambience, value, pizza and deserts. Thi...</td>\n",
       "      <td>2018-01-21 10:52:58</td>\n",
       "    </tr>\n",
       "  </tbody>\n",
       "</table>\n",
       "</div>"
      ],
      "text/plain": [
       "                   review_id                 user_id             business_id  \\\n",
       "109   lDJIaF4eYRF4F7g6Zb9euw  lb0QUR5bc4O-Am4hNq9ZGg  r5PLDU-4mSbde5XekTXSCA   \n",
       "1013  vvIzf3pr8lTqE_AOsxmgaA  MAmijW4ooUzujkufYYLMeQ  r5PLDU-4mSbde5XekTXSCA   \n",
       "1204  UF-JqzMczZ8vvp_4tPK3bQ  slfi6gf_qEYTXy90Sw93sg  r5PLDU-4mSbde5XekTXSCA   \n",
       "1251  geUJGrKhXynxDC2uvERsLw  N_-UepOzAsuDQwOUtfRFGw  r5PLDU-4mSbde5XekTXSCA   \n",
       "1354  aPctXPeZW3kDq36TRm-CqA  139hD7gkZVzSvSzDPwhNNw  r5PLDU-4mSbde5XekTXSCA   \n",
       "\n",
       "      stars  useful  funny  cool  \\\n",
       "109       4       2      0     0   \n",
       "1013      4       0      0     0   \n",
       "1204      5       1      0     0   \n",
       "1251      1       0      0     0   \n",
       "1354      2       0      0     0   \n",
       "\n",
       "                                                   text                date  \n",
       "109   I used to work food service and my manager at ... 2013-01-27 17:54:54  \n",
       "1013  We have been trying Eggplant sandwiches all ov... 2015-04-15 04:50:56  \n",
       "1204  Amazing Steak and Cheese... Better than any Ph... 2011-03-20 00:57:45  \n",
       "1251  Although I have been going to DeFalco's for ye... 2018-07-17 01:48:23  \n",
       "1354  Highs: Ambience, value, pizza and deserts. Thi... 2018-01-21 10:52:58  "
      ]
     },
     "execution_count": 2,
     "metadata": {},
     "output_type": "execute_result"
    }
   ],
   "source": [
    "# Load in the data from JSON file\n",
    "data = pd.read_json('../input/nlp-course/restaurant.json')\n",
    "data.head()"
   ]
  },
  {
   "cell_type": "markdown",
   "id": "c88adc23",
   "metadata": {
    "papermill": {
     "duration": 0.006864,
     "end_time": "2023-04-22T12:47:19.215482",
     "exception": false,
     "start_time": "2023-04-22T12:47:19.208618",
     "status": "completed"
    },
    "tags": []
   },
   "source": [
    "The owner also gave you this list of menu items and common alternate spellings."
   ]
  },
  {
   "cell_type": "code",
   "execution_count": 3,
   "id": "30cd5026",
   "metadata": {
    "execution": {
     "iopub.execute_input": "2023-04-22T12:47:19.232395Z",
     "iopub.status.busy": "2023-04-22T12:47:19.231525Z",
     "iopub.status.idle": "2023-04-22T12:47:19.238937Z",
     "shell.execute_reply": "2023-04-22T12:47:19.237921Z"
    },
    "papermill": {
     "duration": 0.018907,
     "end_time": "2023-04-22T12:47:19.241501",
     "exception": false,
     "start_time": "2023-04-22T12:47:19.222594",
     "status": "completed"
    },
    "tags": []
   },
   "outputs": [],
   "source": [
    "menu = [\"Cheese Steak\", \"Cheesesteak\", \"Steak and Cheese\", \"Italian Combo\", \"Tiramisu\", \"Cannoli\",\n",
    "        \"Chicken Salad\", \"Chicken Spinach Salad\", \"Meatball\", \"Pizza\", \"Pizzas\", \"Spaghetti\",\n",
    "        \"Bruchetta\", \"Eggplant\", \"Italian Beef\", \"Purista\", \"Pasta\", \"Calzones\",  \"Calzone\",\n",
    "        \"Italian Sausage\", \"Chicken Cutlet\", \"Chicken Parm\", \"Chicken Parmesan\", \"Gnocchi\",\n",
    "        \"Chicken Pesto\", \"Turkey Sandwich\", \"Turkey Breast\", \"Ziti\", \"Portobello\", \"Reuben\",\n",
    "        \"Mozzarella Caprese\",  \"Corned Beef\", \"Garlic Bread\", \"Pastrami\", \"Roast Beef\",\n",
    "        \"Tuna Salad\", \"Lasagna\", \"Artichoke Salad\", \"Fettuccini Alfredo\", \"Chicken Parmigiana\",\n",
    "        \"Grilled Veggie\", \"Grilled Veggies\", \"Grilled Vegetable\", \"Mac and Cheese\", \"Macaroni\",  \n",
    "         \"Prosciutto\", \"Salami\"]"
   ]
  },
  {
   "cell_type": "markdown",
   "id": "cd2947d7",
   "metadata": {
    "papermill": {
     "duration": 0.006881,
     "end_time": "2023-04-22T12:47:19.255525",
     "exception": false,
     "start_time": "2023-04-22T12:47:19.248644",
     "status": "completed"
    },
    "tags": []
   },
   "source": [
    "# Step 1: Plan Your Analysis"
   ]
  },
  {
   "cell_type": "markdown",
   "id": "ce763e49",
   "metadata": {
    "papermill": {
     "duration": 0.006905,
     "end_time": "2023-04-22T12:47:19.270539",
     "exception": false,
     "start_time": "2023-04-22T12:47:19.263634",
     "status": "completed"
    },
    "tags": []
   },
   "source": [
    "Given the data from Yelp and the list of menu items, do you have any ideas for how you could find which menu items have disappointed diners?\n",
    "\n",
    "Think about your answer. Then run the cell below to see one approach."
   ]
  },
  {
   "cell_type": "code",
   "execution_count": 4,
   "id": "33a5d150",
   "metadata": {
    "execution": {
     "iopub.execute_input": "2023-04-22T12:47:19.287617Z",
     "iopub.status.busy": "2023-04-22T12:47:19.286469Z",
     "iopub.status.idle": "2023-04-22T12:47:19.296195Z",
     "shell.execute_reply": "2023-04-22T12:47:19.295215Z"
    },
    "papermill": {
     "duration": 0.020656,
     "end_time": "2023-04-22T12:47:19.298424",
     "exception": false,
     "start_time": "2023-04-22T12:47:19.277768",
     "status": "completed"
    },
    "tags": []
   },
   "outputs": [
    {
     "data": {
      "application/javascript": [
       "parent.postMessage({\"jupyterEvent\": \"custom.exercise_interaction\", \"data\": {\"interactionType\": 3, \"questionType\": 4, \"questionId\": \"1_MenuAnalysisPlan\", \"learnToolsVersion\": \"0.3.4\", \"valueTowardsCompletion\": 0.0, \"failureMessage\": \"\", \"exceptionClass\": \"\", \"trace\": \"\", \"outcomeType\": 4}}, \"*\")"
      ],
      "text/plain": [
       "<IPython.core.display.Javascript object>"
      ]
     },
     "metadata": {},
     "output_type": "display_data"
    },
    {
     "data": {
      "text/markdown": [
       "<span style=\"color:#33cc99\">Solution:</span> You could group reviews by what menu items they mention, and then calculate the average rating\n",
       "    for reviews that mentioned each item. You can tell which foods are mentioned in reviews with low scores,\n",
       "    so the restaurant can fix the recipe or remove those foods from the menu."
      ],
      "text/plain": [
       "Solution: You could group reviews by what menu items they mention, and then calculate the average rating\n",
       "    for reviews that mentioned each item. You can tell which foods are mentioned in reviews with low scores,\n",
       "    so the restaurant can fix the recipe or remove those foods from the menu."
      ]
     },
     "metadata": {},
     "output_type": "display_data"
    }
   ],
   "source": [
    "# Check your answer (Run this code cell to receive credit!)\n",
    "q_1.solution()"
   ]
  },
  {
   "cell_type": "markdown",
   "id": "87718620",
   "metadata": {
    "papermill": {
     "duration": 0.006996,
     "end_time": "2023-04-22T12:47:19.312809",
     "exception": false,
     "start_time": "2023-04-22T12:47:19.305813",
     "status": "completed"
    },
    "tags": []
   },
   "source": [
    "# Step 2: Find items in one review\n",
    "\n",
    "You'll pursue this plan of calculating average scores of the reviews mentioning each menu item.\n",
    "\n",
    "As a first step, you'll write code to extract the foods mentioned in a single review.\n",
    "\n",
    "Since menu items are multiple tokens long, you'll use `PhraseMatcher` which can match series of tokens.\n",
    "\n",
    "Fill in the `____` values below to get a list of items matching a single menu item."
   ]
  },
  {
   "cell_type": "code",
   "execution_count": 5,
   "id": "f5851b9f",
   "metadata": {
    "execution": {
     "iopub.execute_input": "2023-04-22T12:47:19.329592Z",
     "iopub.status.busy": "2023-04-22T12:47:19.328821Z",
     "iopub.status.idle": "2023-04-22T12:47:36.631117Z",
     "shell.execute_reply": "2023-04-22T12:47:36.629724Z"
    },
    "papermill": {
     "duration": 17.314099,
     "end_time": "2023-04-22T12:47:36.634113",
     "exception": false,
     "start_time": "2023-04-22T12:47:19.320014",
     "status": "completed"
    },
    "tags": []
   },
   "outputs": [
    {
     "data": {
      "application/javascript": [
       "parent.postMessage({\"jupyterEvent\": \"custom.exercise_interaction\", \"data\": {\"outcomeType\": 1, \"valueTowardsCompletion\": 0.2, \"interactionType\": 1, \"questionType\": 2, \"questionId\": \"2_SingleReviewMatch\", \"learnToolsVersion\": \"0.3.4\", \"failureMessage\": \"\", \"exceptionClass\": \"\", \"trace\": \"\"}}, \"*\")"
      ],
      "text/plain": [
       "<IPython.core.display.Javascript object>"
      ]
     },
     "metadata": {},
     "output_type": "display_data"
    },
    {
     "data": {
      "text/markdown": [
       "<span style=\"color:#33cc33\">Correct</span>"
      ],
      "text/plain": [
       "Correct"
      ]
     },
     "metadata": {},
     "output_type": "display_data"
    }
   ],
   "source": [
    "import spacy\n",
    "from spacy.matcher import PhraseMatcher\n",
    "\n",
    "index_of_review_to_test_on = 14\n",
    "text_to_test_on = data.text.iloc[index_of_review_to_test_on]\n",
    "\n",
    "# Load the SpaCy model\n",
    "nlp = spacy.blank('en')\n",
    "\n",
    "# Create the tokenized version of text_to_test_on\n",
    "review_doc = nlp(text_to_test_on)\n",
    "\n",
    "# Create the PhraseMatcher object. The tokenizer is the first argument. Use attr = 'LOWER' to make consistent capitalization\n",
    "matcher = PhraseMatcher(nlp.vocab, attr='LOWER')\n",
    "\n",
    "# Create a list of tokens for each item in the menu\n",
    "menu_tokens_list = [nlp(item) for item in menu]\n",
    "\n",
    "# Add the item patterns to the matcher. \n",
    "# Look at https://spacy.io/api/phrasematcher#add in the docs for help with this step\n",
    "# Then uncomment the lines below \n",
    "\n",
    "# \n",
    "matcher.add(\"MENU\", menu_tokens_list)           # Just a name for the set of rules we're matching to\n",
    "\n",
    "\n",
    "# Find matches in the review_doc\n",
    "matches = matcher(review_doc)\n",
    "# Uncomment to check your work\n",
    "q_2.check()"
   ]
  },
  {
   "cell_type": "code",
   "execution_count": 6,
   "id": "5e019c89",
   "metadata": {
    "execution": {
     "iopub.execute_input": "2023-04-22T12:47:36.653524Z",
     "iopub.status.busy": "2023-04-22T12:47:36.651902Z",
     "iopub.status.idle": "2023-04-22T12:47:36.658056Z",
     "shell.execute_reply": "2023-04-22T12:47:36.656647Z"
    },
    "papermill": {
     "duration": 0.018807,
     "end_time": "2023-04-22T12:47:36.660719",
     "exception": false,
     "start_time": "2023-04-22T12:47:36.641912",
     "status": "completed"
    },
    "tags": []
   },
   "outputs": [],
   "source": [
    "# Lines below will give you a hint or solution code\n",
    "#q_2.hint()\n",
    "#q_2.solution()"
   ]
  },
  {
   "cell_type": "markdown",
   "id": "bb4b17a7",
   "metadata": {
    "papermill": {
     "duration": 0.007496,
     "end_time": "2023-04-22T12:47:36.676593",
     "exception": false,
     "start_time": "2023-04-22T12:47:36.669097",
     "status": "completed"
    },
    "tags": []
   },
   "source": [
    "After implementing the above cell, uncomment the following cell to print the matches."
   ]
  },
  {
   "cell_type": "code",
   "execution_count": 7,
   "id": "b050e6f4",
   "metadata": {
    "execution": {
     "iopub.execute_input": "2023-04-22T12:47:36.695021Z",
     "iopub.status.busy": "2023-04-22T12:47:36.693690Z",
     "iopub.status.idle": "2023-04-22T12:47:36.702883Z",
     "shell.execute_reply": "2023-04-22T12:47:36.701214Z"
    },
    "papermill": {
     "duration": 0.02103,
     "end_time": "2023-04-22T12:47:36.705376",
     "exception": false,
     "start_time": "2023-04-22T12:47:36.684346",
     "status": "completed"
    },
    "tags": []
   },
   "outputs": [
    {
     "name": "stdout",
     "output_type": "stream",
     "text": [
      "Token number 2: Purista\n",
      "Token number 16: prosciutto\n",
      "Token number 58: meatball\n"
     ]
    }
   ],
   "source": [
    "#\n",
    "for match in matches:\n",
    "    print(f\"Token number {match[1]}: {review_doc[match[1]:match[2]]}\")"
   ]
  },
  {
   "cell_type": "markdown",
   "id": "4c76b028",
   "metadata": {
    "papermill": {
     "duration": 0.007419,
     "end_time": "2023-04-22T12:47:36.720762",
     "exception": false,
     "start_time": "2023-04-22T12:47:36.713343",
     "status": "completed"
    },
    "tags": []
   },
   "source": [
    "# Step 3: Matching on the whole dataset\n",
    "\n",
    "Now run this matcher over the whole dataset and collect ratings for each menu item. Each review has a rating, `review.stars`. For each item that appears in the review text (`review.text`), append the review's rating to a list of ratings for that item. The lists are kept in a dictionary `item_ratings`.\n",
    "\n",
    "To get the matched phrases, you can reference the `PhraseMatcher` documentation for the structure of each match object:\n",
    "\n",
    ">A list of `(match_id, start, end)` tuples, describing the matches. A match tuple describes a span `doc[start:end]`. The `match_id` is the ID of the added match pattern."
   ]
  },
  {
   "cell_type": "code",
   "execution_count": 8,
   "id": "7d780ece",
   "metadata": {
    "execution": {
     "iopub.execute_input": "2023-04-22T12:47:36.739479Z",
     "iopub.status.busy": "2023-04-22T12:47:36.738300Z",
     "iopub.status.idle": "2023-04-22T12:47:37.711763Z",
     "shell.execute_reply": "2023-04-22T12:47:37.710220Z"
    },
    "papermill": {
     "duration": 0.986157,
     "end_time": "2023-04-22T12:47:37.714899",
     "exception": false,
     "start_time": "2023-04-22T12:47:36.728742",
     "status": "completed"
    },
    "tags": []
   },
   "outputs": [
    {
     "data": {
      "application/javascript": [
       "parent.postMessage({\"jupyterEvent\": \"custom.exercise_interaction\", \"data\": {\"outcomeType\": 1, \"valueTowardsCompletion\": 0.2, \"interactionType\": 1, \"questionType\": 2, \"questionId\": \"3_MatchAllDataset\", \"learnToolsVersion\": \"0.3.4\", \"failureMessage\": \"\", \"exceptionClass\": \"\", \"trace\": \"\"}}, \"*\")"
      ],
      "text/plain": [
       "<IPython.core.display.Javascript object>"
      ]
     },
     "metadata": {},
     "output_type": "display_data"
    },
    {
     "data": {
      "text/markdown": [
       "<span style=\"color:#33cc33\">Correct</span>"
      ],
      "text/plain": [
       "Correct"
      ]
     },
     "metadata": {},
     "output_type": "display_data"
    }
   ],
   "source": [
    "from collections import defaultdict\n",
    "\n",
    "# item_ratings is a dictionary of lists. If a key doesn't exist in item_ratings,\n",
    "# the key is added with an empty list as the value.\n",
    "item_ratings = defaultdict(list)\n",
    "\n",
    "for idx, review in data.iterrows():\n",
    "    doc = nlp(review.text)\n",
    "    # Using the matcher from the previous exercise\n",
    "    matches = matcher(doc)\n",
    "    \n",
    "    # Create a set of the items found in the review text\n",
    "    found_items = set([doc[match[1]:match[2]].text.lower() for match in matches])\n",
    "    \n",
    "    # Update item_ratings with rating for each item in found_items\n",
    "    # Transform the item strings to lowercase to make it case insensitive\n",
    "    for item in found_items: \n",
    "        item_ratings[item].append(review.stars)\n",
    "\n",
    "q_3.check()"
   ]
  },
  {
   "cell_type": "code",
   "execution_count": 9,
   "id": "b3483228",
   "metadata": {
    "execution": {
     "iopub.execute_input": "2023-04-22T12:47:37.734569Z",
     "iopub.status.busy": "2023-04-22T12:47:37.733646Z",
     "iopub.status.idle": "2023-04-22T12:47:37.739086Z",
     "shell.execute_reply": "2023-04-22T12:47:37.737719Z"
    },
    "papermill": {
     "duration": 0.017782,
     "end_time": "2023-04-22T12:47:37.741720",
     "exception": false,
     "start_time": "2023-04-22T12:47:37.723938",
     "status": "completed"
    },
    "tags": []
   },
   "outputs": [],
   "source": [
    "# Lines below will give you a hint or solution code\n",
    "#q_3.hint()\n",
    "#q_3.solution()"
   ]
  },
  {
   "cell_type": "markdown",
   "id": "b4facd59",
   "metadata": {
    "papermill": {
     "duration": 0.007652,
     "end_time": "2023-04-22T12:47:37.757345",
     "exception": false,
     "start_time": "2023-04-22T12:47:37.749693",
     "status": "completed"
    },
    "tags": []
   },
   "source": [
    "# Step 4: What's the worst reviewed item?\n",
    "\n",
    "Using these item ratings, find the menu item with the worst average rating."
   ]
  },
  {
   "cell_type": "markdown",
   "id": "c1932405",
   "metadata": {
    "papermill": {
     "duration": 0.007745,
     "end_time": "2023-04-22T12:47:37.772978",
     "exception": false,
     "start_time": "2023-04-22T12:47:37.765233",
     "status": "completed"
    },
    "tags": []
   },
   "source": []
  },
  {
   "cell_type": "code",
   "execution_count": 10,
   "id": "a4d18838",
   "metadata": {
    "execution": {
     "iopub.execute_input": "2023-04-22T12:47:37.791792Z",
     "iopub.status.busy": "2023-04-22T12:47:37.791093Z",
     "iopub.status.idle": "2023-04-22T12:47:37.802059Z",
     "shell.execute_reply": "2023-04-22T12:47:37.800998Z"
    },
    "papermill": {
     "duration": 0.023253,
     "end_time": "2023-04-22T12:47:37.804489",
     "exception": false,
     "start_time": "2023-04-22T12:47:37.781236",
     "status": "completed"
    },
    "tags": []
   },
   "outputs": [
    {
     "data": {
      "application/javascript": [
       "parent.postMessage({\"jupyterEvent\": \"custom.exercise_interaction\", \"data\": {\"outcomeType\": 1, \"valueTowardsCompletion\": 0.2, \"interactionType\": 1, \"questionType\": 1, \"questionId\": \"4_WorstReviewedItem\", \"learnToolsVersion\": \"0.3.4\", \"failureMessage\": \"\", \"exceptionClass\": \"\", \"trace\": \"\"}}, \"*\")"
      ],
      "text/plain": [
       "<IPython.core.display.Javascript object>"
      ]
     },
     "metadata": {},
     "output_type": "display_data"
    },
    {
     "data": {
      "text/markdown": [
       "<span style=\"color:#33cc33\">Correct</span>"
      ],
      "text/plain": [
       "Correct"
      ]
     },
     "metadata": {},
     "output_type": "display_data"
    }
   ],
   "source": [
    "# Calculate the mean ratings for each menu item as a dictionary\n",
    "mean_ratings = {item: sum(ratings)/len(ratings) for item, ratings in item_ratings.items()}\n",
    "              \n",
    "    #Calculate the mean first by dividing the sum by the length. Then go through the list to check the amount of stars in each item.\n",
    "\n",
    "\n",
    "# Find the worst item, and write it as a string in worst_item. This can be multiple lines of code if you want.\n",
    "worst_item = sorted(mean_ratings, key=mean_ratings.get)[0]\n",
    "          \n",
    "                #Sort through mean ratings to see the ratings for each item.\n",
    "\n",
    "q_4.check()"
   ]
  },
  {
   "cell_type": "code",
   "execution_count": 11,
   "id": "2232ff62",
   "metadata": {
    "execution": {
     "iopub.execute_input": "2023-04-22T12:47:37.824361Z",
     "iopub.status.busy": "2023-04-22T12:47:37.823638Z",
     "iopub.status.idle": "2023-04-22T12:47:37.828301Z",
     "shell.execute_reply": "2023-04-22T12:47:37.827429Z"
    },
    "papermill": {
     "duration": 0.017479,
     "end_time": "2023-04-22T12:47:37.830641",
     "exception": false,
     "start_time": "2023-04-22T12:47:37.813162",
     "status": "completed"
    },
    "tags": []
   },
   "outputs": [],
   "source": [
    "# Lines below will give you a hint or solution code\n",
    "#q_4.hint()\n",
    "#q_4.solution()"
   ]
  },
  {
   "cell_type": "code",
   "execution_count": 12,
   "id": "ff5be7ed",
   "metadata": {
    "execution": {
     "iopub.execute_input": "2023-04-22T12:47:37.849371Z",
     "iopub.status.busy": "2023-04-22T12:47:37.848656Z",
     "iopub.status.idle": "2023-04-22T12:47:37.855546Z",
     "shell.execute_reply": "2023-04-22T12:47:37.853938Z"
    },
    "papermill": {
     "duration": 0.019072,
     "end_time": "2023-04-22T12:47:37.857838",
     "exception": false,
     "start_time": "2023-04-22T12:47:37.838766",
     "status": "completed"
    },
    "tags": []
   },
   "outputs": [
    {
     "name": "stdout",
     "output_type": "stream",
     "text": [
      "chicken cutlet\n",
      "3.4\n"
     ]
    }
   ],
   "source": [
    "# After implementing the above cell, uncomment and run this to print \n",
    "# out the worst item, along with its average rating. \n",
    "\n",
    "print(worst_item)\n",
    "print(mean_ratings[worst_item])"
   ]
  },
  {
   "cell_type": "markdown",
   "id": "d4c6c61f",
   "metadata": {
    "papermill": {
     "duration": 0.007962,
     "end_time": "2023-04-22T12:47:37.874257",
     "exception": false,
     "start_time": "2023-04-22T12:47:37.866295",
     "status": "completed"
    },
    "tags": []
   },
   "source": [
    "# Step 5: Are counts important here?\n",
    "\n",
    "Similar to the mean ratings, you can calculate the number of reviews for each item."
   ]
  },
  {
   "cell_type": "code",
   "execution_count": 13,
   "id": "f745c3d3",
   "metadata": {
    "execution": {
     "iopub.execute_input": "2023-04-22T12:47:37.893366Z",
     "iopub.status.busy": "2023-04-22T12:47:37.892635Z",
     "iopub.status.idle": "2023-04-22T12:47:37.901071Z",
     "shell.execute_reply": "2023-04-22T12:47:37.899239Z"
    },
    "papermill": {
     "duration": 0.021644,
     "end_time": "2023-04-22T12:47:37.904184",
     "exception": false,
     "start_time": "2023-04-22T12:47:37.882540",
     "status": "completed"
    },
    "tags": []
   },
   "outputs": [
    {
     "name": "stdout",
     "output_type": "stream",
     "text": [
      "                    pizza  265\n",
      "                    pasta  206\n",
      "                 meatball  128\n",
      "              cheesesteak   97\n",
      "             cheese steak   76\n",
      "                  cannoli   72\n",
      "                  calzone   72\n",
      "                 eggplant   69\n",
      "                  purista   63\n",
      "                  lasagna   59\n",
      "          italian sausage   53\n",
      "               prosciutto   50\n",
      "             chicken parm   50\n",
      "             garlic bread   39\n",
      "                  gnocchi   37\n",
      "                spaghetti   36\n",
      "                 calzones   35\n",
      "                   pizzas   32\n",
      "                   salami   28\n",
      "            chicken pesto   27\n",
      "             italian beef   25\n",
      "                 tiramisu   21\n",
      "            italian combo   21\n",
      "                     ziti   21\n",
      "         chicken parmesan   19\n",
      "       chicken parmigiana   17\n",
      "               portobello   14\n",
      "           mac and cheese   11\n",
      "           chicken cutlet   10\n",
      "         steak and cheese    9\n",
      "                 pastrami    9\n",
      "               roast beef    7\n",
      "       fettuccini alfredo    6\n",
      "           grilled veggie    6\n",
      "          turkey sandwich    5\n",
      "               tuna salad    5\n",
      "          artichoke salad    5\n",
      "                 macaroni    5\n",
      "            chicken salad    5\n",
      "                   reuben    4\n",
      "    chicken spinach salad    2\n",
      "              corned beef    2\n",
      "            turkey breast    1\n"
     ]
    }
   ],
   "source": [
    "counts = {item: len(ratings) for item, ratings in item_ratings.items()}\n",
    "\n",
    "item_counts = sorted(counts, key=counts.get, reverse=True)\n",
    "for item in item_counts:\n",
    "    print(f\"{item:>25}{counts[item]:>5}\")"
   ]
  },
  {
   "cell_type": "markdown",
   "id": "d4e9423f",
   "metadata": {
    "papermill": {
     "duration": 0.008108,
     "end_time": "2023-04-22T12:47:37.920865",
     "exception": false,
     "start_time": "2023-04-22T12:47:37.912757",
     "status": "completed"
    },
    "tags": []
   },
   "source": [
    "Here is code to print the 10 best and 10 worst rated items. Look at the results, and decide whether you think it's important to consider the number of reviews when interpreting scores of which items are best and worst."
   ]
  },
  {
   "cell_type": "code",
   "execution_count": 14,
   "id": "69dd28bb",
   "metadata": {
    "execution": {
     "iopub.execute_input": "2023-04-22T12:47:37.941533Z",
     "iopub.status.busy": "2023-04-22T12:47:37.940788Z",
     "iopub.status.idle": "2023-04-22T12:47:37.949855Z",
     "shell.execute_reply": "2023-04-22T12:47:37.947838Z"
    },
    "papermill": {
     "duration": 0.0227,
     "end_time": "2023-04-22T12:47:37.952581",
     "exception": false,
     "start_time": "2023-04-22T12:47:37.929881",
     "status": "completed"
    },
    "tags": []
   },
   "outputs": [
    {
     "name": "stdout",
     "output_type": "stream",
     "text": [
      "Worst rated menu items:\n",
      "chicken cutlet       Ave rating: 3.40 \tcount: 10\n",
      "turkey sandwich      Ave rating: 3.80 \tcount: 5\n",
      "spaghetti            Ave rating: 3.89 \tcount: 36\n",
      "italian beef         Ave rating: 3.92 \tcount: 25\n",
      "tuna salad           Ave rating: 4.00 \tcount: 5\n",
      "macaroni             Ave rating: 4.00 \tcount: 5\n",
      "italian combo        Ave rating: 4.05 \tcount: 21\n",
      "garlic bread         Ave rating: 4.13 \tcount: 39\n",
      "roast beef           Ave rating: 4.14 \tcount: 7\n",
      "eggplant             Ave rating: 4.16 \tcount: 69\n",
      "\n",
      "\n",
      "Best rated menu items:\n",
      "chicken pesto        Ave rating: 4.56 \tcount: 27\n",
      "chicken salad        Ave rating: 4.60 \tcount: 5\n",
      "purista              Ave rating: 4.67 \tcount: 63\n",
      "prosciutto           Ave rating: 4.68 \tcount: 50\n",
      "reuben               Ave rating: 4.75 \tcount: 4\n",
      "steak and cheese     Ave rating: 4.89 \tcount: 9\n",
      "artichoke salad      Ave rating: 5.00 \tcount: 5\n",
      "fettuccini alfredo   Ave rating: 5.00 \tcount: 6\n",
      "turkey breast        Ave rating: 5.00 \tcount: 1\n",
      "corned beef          Ave rating: 5.00 \tcount: 2\n"
     ]
    }
   ],
   "source": [
    "sorted_ratings = sorted(mean_ratings, key=mean_ratings.get)\n",
    "\n",
    "print(\"Worst rated menu items:\")\n",
    "for item in sorted_ratings[:10]:\n",
    "    print(f\"{item:20} Ave rating: {mean_ratings[item]:.2f} \\tcount: {counts[item]}\")\n",
    "    \n",
    "print(\"\\n\\nBest rated menu items:\")\n",
    "for item in sorted_ratings[-10:]:\n",
    "    print(f\"{item:20} Ave rating: {mean_ratings[item]:.2f} \\tcount: {counts[item]}\")"
   ]
  },
  {
   "cell_type": "markdown",
   "id": "971ddb1e",
   "metadata": {
    "papermill": {
     "duration": 0.008442,
     "end_time": "2023-04-22T12:47:37.969651",
     "exception": false,
     "start_time": "2023-04-22T12:47:37.961209",
     "status": "completed"
    },
    "tags": []
   },
   "source": [
    "Run the following line after you've decided your answer."
   ]
  },
  {
   "cell_type": "code",
   "execution_count": 15,
   "id": "21e97492",
   "metadata": {
    "execution": {
     "iopub.execute_input": "2023-04-22T12:47:37.988956Z",
     "iopub.status.busy": "2023-04-22T12:47:37.988439Z",
     "iopub.status.idle": "2023-04-22T12:47:37.998229Z",
     "shell.execute_reply": "2023-04-22T12:47:37.996941Z"
    },
    "papermill": {
     "duration": 0.02245,
     "end_time": "2023-04-22T12:47:38.000771",
     "exception": false,
     "start_time": "2023-04-22T12:47:37.978321",
     "status": "completed"
    },
    "tags": []
   },
   "outputs": [
    {
     "data": {
      "application/javascript": [
       "parent.postMessage({\"jupyterEvent\": \"custom.exercise_interaction\", \"data\": {\"interactionType\": 3, \"questionType\": 4, \"questionId\": \"5_CountImportanceQuestion\", \"learnToolsVersion\": \"0.3.4\", \"valueTowardsCompletion\": 0.0, \"failureMessage\": \"\", \"exceptionClass\": \"\", \"trace\": \"\", \"outcomeType\": 4}}, \"*\")"
      ],
      "text/plain": [
       "<IPython.core.display.Javascript object>"
      ]
     },
     "metadata": {},
     "output_type": "display_data"
    },
    {
     "data": {
      "text/markdown": [
       "<span style=\"color:#33cc99\">Solution:</span> \n",
       "    The less data you have for any specific item, the less you can trust that the average rating is the \"real\" sentiment of the customers. This is fairly common sense. If more people tell you the same thing, you're more likely to believe it. It's also mathematically sound. As the number of data points increases, the error on the mean decreases as 1 / sqrt(n).\n",
       "    "
      ],
      "text/plain": [
       "Solution: \n",
       "    The less data you have for any specific item, the less you can trust that the average rating is the \"real\" sentiment of the customers. This is fairly common sense. If more people tell you the same thing, you're more likely to believe it. It's also mathematically sound. As the number of data points increases, the error on the mean decreases as 1 / sqrt(n).\n",
       "    "
      ]
     },
     "metadata": {},
     "output_type": "display_data"
    }
   ],
   "source": [
    "# Check your answer (Run this code cell to receive credit!)\n",
    "q_5.solution()"
   ]
  },
  {
   "cell_type": "markdown",
   "id": "8df25fdc",
   "metadata": {
    "papermill": {
     "duration": 0.008492,
     "end_time": "2023-04-22T12:47:38.018250",
     "exception": false,
     "start_time": "2023-04-22T12:47:38.009758",
     "status": "completed"
    },
    "tags": []
   },
   "source": [
    "# Keep Going\n",
    "\n",
    "Now that you are ready to combine your NLP skills with your ML skills, **[see how it's done](https://www.kaggle.com/matleonard/text-classification)**."
   ]
  },
  {
   "cell_type": "markdown",
   "id": "08f94708",
   "metadata": {
    "papermill": {
     "duration": 0.008567,
     "end_time": "2023-04-22T12:47:38.035676",
     "exception": false,
     "start_time": "2023-04-22T12:47:38.027109",
     "status": "completed"
    },
    "tags": []
   },
   "source": [
    "---\n",
    "\n",
    "\n",
    "\n",
    "\n",
    "*Have questions or comments? Visit the [course discussion forum](https://www.kaggle.com/learn/natural-language-processing/discussion) to chat with other learners.*"
   ]
  }
 ],
 "metadata": {
  "kernelspec": {
   "display_name": "Python 3",
   "language": "python",
   "name": "python3"
  },
  "language_info": {
   "codemirror_mode": {
    "name": "ipython",
    "version": 3
   },
   "file_extension": ".py",
   "mimetype": "text/x-python",
   "name": "python",
   "nbconvert_exporter": "python",
   "pygments_lexer": "ipython3",
   "version": "3.7.12"
  },
  "papermill": {
   "default_parameters": {},
   "duration": 32.812746,
   "end_time": "2023-04-22T12:47:40.903892",
   "environment_variables": {},
   "exception": null,
   "input_path": "__notebook__.ipynb",
   "output_path": "__notebook__.ipynb",
   "parameters": {},
   "start_time": "2023-04-22T12:47:08.091146",
   "version": "2.4.0"
  }
 },
 "nbformat": 4,
 "nbformat_minor": 5
}
